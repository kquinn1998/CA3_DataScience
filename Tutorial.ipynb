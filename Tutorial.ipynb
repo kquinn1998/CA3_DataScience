{
 "cells": [
  {
   "cell_type": "markdown",
   "metadata": {},
   "source": [
    "<h1>CA3 Data Science Tutorial</h1>\n",
    "Kevin Quinn\n",
    "C00216607\n",
    "\n",
    "<h3>Introduction</h3>\n",
    "The purpose of this notebook tutorial is to provide incoming 4th year students enrolled on the Data Science module a technical understanding of data science and machine learning. In this tutorial this will be done with an example of use with a Convolutional Neural Network, which is used in imagery analysis which is a prominent area of data science and machine learning currently.\n",
    "\n",
    "<h3>Learning Outcomes</h3>\n",
    "Following completion of this tutorial, the user will have an understanding of the following within the tensorflow framework,\n",
    "<ul>\n",
    "  <li>Data Import</li>\n",
    "  <li>Data Preporation / Processing</li>\n",
    "  <li>Model Creation</li>\n",
    "  <li>Model Training</li>\n",
    "  <li>Model Testing</li>\n",
    "  <li>Running Predictions</li>\n",
    "  <li>Model Saving and Deployment</li>\n",
    "</ul>\n",
    "This tutorial will be done using a variety of packages but the main framework will be tensorflow along with open computer vision.\n",
    "\n",
    "<h3>Tutorial Explanation</h3>\n",
    "With this tutorial we will be covering to examples of uses for Convolutional Neural Networks,\n",
    "<ul>\n",
    "  <li>Binary Image Classification</li>\n",
    "  <li>Multi Image Classification</li>\n",
    "</ul>\n",
    "The terms are pretty self explanitory, but Binary Image Classification being the model will only classify the image into 2 catogories, and Multi Image Classification into more than two. They are two variations of the same process but as with Binary only classifying into 2 catogories it has the potential to be more accuarate in its prediction i.e. its 50% chance its correct on a complete uneducated guess.\n",
    "\n",
    "With these two uses we will have two different sets of data,\n",
    "<ul>\n",
    "  <li>Cats and Dogs Dataset</li>\n",
    "  <li>Clothing Dataset</li>\n",
    "</ul>\n",
    "As can be imagined the cats and dogs will be used with the Binary Classification, i.e. we provide a picture of a cat or dog and the model will provide a result to weather it thinks its a cat or dog. Where as the clothing datset will be used with the Multi Classification, so we will provide an image of clothing to the model and it will classify it to a type.\n",
    "\n",
    "\n",
    "<h3>Packages Needed</h3>\n",
    "<ul>\n",
    "  <li>Tensorflow Framework</li>\n",
    "  <li>Keras from Tensorflow</li>\n",
    "  <li>Keras models in which we are using a Sequential Model</li>\n",
    "  <li>Keras layers in which we are using a variety of layers</li>\n",
    "  <li>Keras image data generater</li>\n",
    "  <li>OS which allows the script to preform operations on the system</li>\n",
    "  <li>NumPy used to preform different operation on numerical data</li>\n",
    "  <li>Matplotlib which is a data visualation library</li>\n",
    "</ul>"
   ]
  },
  {
   "cell_type": "code",
   "execution_count": 1,
   "metadata": {},
   "outputs": [],
   "source": [
    "# TensorFlow and tf.keras\n",
    "import tensorflow as tf\n",
    "from tensorflow import keras\n",
    "from tensorflow.keras.models import Sequential\n",
    "from tensorflow.keras.layers import Dense, Conv2D, Flatten, Dropout, MaxPooling2D\n",
    "from tensorflow.keras.preprocessing.image import ImageDataGenerator\n",
    "\n",
    "# Helper libraries\n",
    "import os\n",
    "import numpy as np\n",
    "import matplotlib.pyplot as plt"
   ]
  },
  {
   "cell_type": "markdown",
   "metadata": {},
   "source": [
    "<h3>Data Importation</h3>\n",
    "With this next block of code we are going to import our 2 datasets, the first being the Cats and Dogs dataset which we will import from an external URL, and the second being the Clothing dataset which is pre imported along with tensorflow.\n",
    "\n",
    "<h4>Cats and Dogs Importation</h4>"
   ]
  },
  {
   "cell_type": "code",
   "execution_count": 2,
   "metadata": {},
   "outputs": [],
   "source": [
    "_URL = 'https://storage.googleapis.com/mledu-datasets/cats_and_dogs_filtered.zip'\n",
    "\n",
    "path_to_zip = tf.keras.utils.get_file('cats_and_dogs.zip', origin=_URL, extract=True)\n",
    "\n",
    "PATH = os.path.join(os.path.dirname(path_to_zip), 'cats_and_dogs_filtered')"
   ]
  },
  {
   "cell_type": "markdown",
   "metadata": {},
   "source": [
    "Running this you will see that the dataset is downloaded from the given URL, this can be done with any online stored dataset which has public access by just providing the URL.\n",
    "\n",
    "But you can also bring the dataset in from your local machine but that will not be covered in this turtorial.\n",
    "\n",
    "With the next code we will be applying the directories in which the various images in them to variables. This includes first the training set of images which is used to then train the model, and then the test set of images which is then used to test the accuaracy of our model"
   ]
  },
  {
   "cell_type": "code",
   "execution_count": 3,
   "metadata": {},
   "outputs": [],
   "source": [
    "cats_dogs_train_dir = os.path.join(PATH, 'train')\n",
    "cats_dogs_test_dir = os.path.join(PATH, 'validation')\n",
    "\n",
    "train_cats_dir = os.path.join(cats_dogs_train_dir, 'cats')\n",
    "train_dogs_dir = os.path.join(cats_dogs_train_dir, 'dogs')\n",
    "test_cats_dir = os.path.join(cats_dogs_test_dir, 'cats')  \n",
    "test_dogs_dir = os.path.join(cats_dogs_test_dir, 'dogs')  "
   ]
  },
  {
   "cell_type": "markdown",
   "metadata": {},
   "source": [
    "<h4>Clothing Importation</h4>"
   ]
  },
  {
   "cell_type": "code",
   "execution_count": 4,
   "metadata": {},
   "outputs": [],
   "source": [
    "fashion_mnist = keras.datasets.fashion_mnist\n",
    "\n",
    "(clothing_train_images, clothing_train_labels), (clothing_test_images, clothing_test_labels) = fashion_mnist.load_data()\n",
    "\n",
    "clothing_class_names = ['T-shirt/top', 'Trouser', 'Pullover', 'Dress', 'Coat',\n",
    "               'Sandal', 'Shirt', 'Sneaker', 'Bag', 'Ankle boot']"
   ]
  },
  {
   "cell_type": "markdown",
   "metadata": {},
   "source": [
    "As you can see the above code has imported the dataset has first been assigned to a variable and then using the load data function which return four numpy arrays we have loaded the data into its corresponding training and testing sets just like we did with the Cats and Dogs but alot quicker this time as this dataset is built into the Tensorflow Framework.\n",
    "\n",
    "You can also see we have a set with the accompanying labels for each image, the labels are stored in the form of a number, with each number representing a label. In this case,\n",
    "\n",
    "<ul>\n",
    "    <li>0 : T-shirt/top</li>\n",
    "    <li>1 : Trousers</li>\n",
    "    <li>2 : Pullover</li>\n",
    "    <li>3 : Dress</li>\n",
    "    <li>4 : Coat</li>\n",
    "    <li>5 : Sandal</li>\n",
    "    <li>6 : Shirt</li>\n",
    "    <li>7 : Sneaker</li>\n",
    "    <li>8 : Bag</li>\n",
    "    <li>9 : Ankle Boot</li>\n",
    "</ul>\n",
    "\n",
    "<h3>Exploring The Data</h3>\n",
    "With having your dataset it is important to understand what your working with, this included looking at the size of your data to see if its viable for training, looking if one class has more images than another as this can biased your model and many other reasons which would influence your way of working with the data\n",
    "\n",
    "<h4>Cats and Dogs Dataset</h4>"
   ]
  },
  {
   "cell_type": "code",
   "execution_count": 5,
   "metadata": {},
   "outputs": [
    {
     "name": "stdout",
     "output_type": "stream",
     "text": [
      "Number of Cat Training Images: 1000\n",
      "Number of Dog Training Images: 1000\n",
      "Number of Cat Testing Images: 500\n",
      "Number of Dog Testing Images: 500\n",
      "--\n",
      "Total training images: 2000\n",
      "Total testing images: 1000\n"
     ]
    }
   ],
   "source": [
    "print('Number of Cat Training Images:', len(os.listdir(train_cats_dir)))\n",
    "print('Number of Dog Training Images:', len(os.listdir(train_dogs_dir)))\n",
    "\n",
    "print('Number of Cat Testing Images:', len(os.listdir(test_cats_dir)))\n",
    "print('Number of Dog Testing Images:', len(os.listdir(test_dogs_dir)))\n",
    "print(\"--\")\n",
    "print(\"Total training images:\", len(os.listdir(train_cats_dir)) + len(os.listdir(train_dogs_dir)))\n",
    "print(\"Total testing images:\", len(os.listdir(test_cats_dir)) +len(os.listdir(test_dogs_dir)))"
   ]
  },
  {
   "cell_type": "markdown",
   "metadata": {},
   "source": [
    "With this we can see that we have a total of 2000 training images which in terms of machine learning and datascience is quite small which suits well for this tutorial as you will not be waiting long periods of time for data to be loaded.\n",
    "\n",
    "You can also notice that the training images have an equal amount so our model will not be biased.\n",
    "\n",
    "Also you can see that the amount of testing images is half that of the training images which is the recommended amount for viable and accurate testing.\n",
    "\n",
    "<h4>Clothing Dataset</h4>"
   ]
  },
  {
   "cell_type": "code",
   "execution_count": 6,
   "metadata": {},
   "outputs": [
    {
     "name": "stdout",
     "output_type": "stream",
     "text": [
      "Total Clothing training images: 60000\n",
      "Total Clothing testing images: 10000\n"
     ]
    }
   ],
   "source": [
    "\n",
    "print(\"Total Clothing training images:\", len(clothing_train_labels))\n",
    "print(\"Total Clothing testing images:\", len(clothing_test_labels))"
   ]
  },
  {
   "cell_type": "markdown",
   "metadata": {},
   "source": [
    "With these results the first thing we will notice is that there are alot more images than in the Cats and Dogs dataset, this is due to it being Multi Classification and needing more images. \n",
    "\n",
    "You can also notice that we have far fewer images than the Cats and Dogs for testing than the half to half ratio, this is due to the larger amount of data and the multi classification which means we dont need as much testing as 10000 tesing images is enough to assess the model.\n",
    "\n",
    "<h3>Data Preparation</h3>\n",
    "<h4>Cats and Dogs Dataset</h4>"
   ]
  },
  {
   "cell_type": "code",
   "execution_count": 7,
   "metadata": {},
   "outputs": [
    {
     "name": "stdout",
     "output_type": "stream",
     "text": [
      "Found 2000 images belonging to 2 classes.\n",
      "Found 1000 images belonging to 2 classes.\n"
     ]
    },
    {
     "data": {
      "text/plain": [
       "<matplotlib.image.AxesImage at 0x299a7221408>"
      ]
     },
     "execution_count": 7,
     "metadata": {},
     "output_type": "execute_result"
    },
    {
     "data": {
      "image/png": "[encoded data removed]",
      "text/plain": [
       "<Figure size 432x288 with 1 Axes>"
      ]
     },
     "metadata": {
      "needs_background": "light"
     },
     "output_type": "display_data"
    }
   ],
   "source": [
    "IMG_SIZE = 150\n",
    "\n",
    "cats_dogs_train_image_generator = ImageDataGenerator(rescale=1./255) \n",
    "cats_dogs_testing_image_generator = ImageDataGenerator(rescale=1./255)\n",
    "\n",
    "cats_dogs_train_data = cats_dogs_train_image_generator.flow_from_directory(batch_size=128,\n",
    "                                                           directory=cats_dogs_train_dir,\n",
    "                                                           shuffle=True,\n",
    "                                                           target_size=(IMG_SIZE, IMG_SIZE),\n",
    "                                                           class_mode='binary')\n",
    "cats_dogs_test_data = cats_dogs_testing_image_generator.flow_from_directory(batch_size=128,\n",
    "                                                              directory=cats_dogs_test_dir,\n",
    "                                                              target_size=(IMG_SIZE, IMG_SIZE),\n",
    "                                                              class_mode='binary')\n",
    "sample_training_images, _ = next(cats_dogs_train_data)\n",
    "\n",
    "plt.imshow(sample_training_images[0])"
   ]
  },
  {
   "cell_type": "markdown",
   "metadata": {},
   "source": [
    "So with our Cats and Dogs Dataset we have to do it a small bit differently than the clothing, as since the clothing was imported straight from the framework it comes pre loaded into Numpy Arrays of Data, where as we have just loaded in the Directory of the Cats and Dogs.\n",
    "\n",
    "<h5>Image Generators</h5>\n",
    "But with this code we first make two image data generators which allows us to load in and process the images at the same time !\n",
    "\n",
    "<h5>Image Sizing</h5>\n",
    "So you can see first we are setting a size for the image, this will be used throughout the tutorial. We set it to 150 which is just big enough to provide a decent picture to train the model on. By doing this we are reducing the amount of processing needed as the image is smaller.\n",
    "\n",
    "<h5>Image Data Values</h5>\n",
    "We also set the rescale value in the Generator to rescale the data values to between 1 and 0 instead of 0 and 255 which is the RGB values, this is again done to decrease loading times but also make the model more accurate as the Convolutional Neaural Network, and many other machine learning algorithms in general are better and more accurate with smaller inputs. So where inputs can be scaled to something smaller without loosing value in the data it should be done so.\n",
    "\n",
    "<h5>flow_from_directory Method</h5>\n",
    "In the flow_from_directory method you can see we provide a batch size which is how many images it will load in one go at a time. We provide the directory path in which the images need to be loaded from. By setting shuffle to through it means it will shuffle the order of the images as it stores them. This is done to prevent a biased in the model which can be caused if you train the model on just Cats first when it comes to the Dogs you are going to train it to just recognize Dogs then, so by shuffling it, it removes that biased from occuring. We then provide our image size and the we provide that it is a binary class as we only have our 2 classes Cats and Dogs.\n",
    "\n",
    "<h5>Image Visualisation</h5>\n",
    "Also using Mathplotlib we are able to print out an example of what the image looks like after it has been loaded in.\n",
    "\n",
    "<h4>Clothing Dataset</h4>"
   ]
  },
  {
   "cell_type": "code",
   "execution_count": 8,
   "metadata": {},
   "outputs": [
    {
     "name": "stdout",
     "output_type": "stream",
     "text": [
      "Clothing Training Images Shape :  (28, 28)\n"
     ]
    },
    {
     "data": {
      "text/plain": [
       "<matplotlib.image.AxesImage at 0x299ab304f48>"
      ]
     },
     "execution_count": 8,
     "metadata": {},
     "output_type": "execute_result"
    },
    {
     "data": {
      "image/png": "[encoded data removed]",
      "text/plain": [
       "<Figure size 432x288 with 1 Axes>"
      ]
     },
     "metadata": {
      "needs_background": "light"
     },
     "output_type": "display_data"
    }
   ],
   "source": [
    "clothing_train_images = clothing_train_images / 255\n",
    "clothing_test_images = clothing_test_images / 255\n",
    "\n",
    "print(\"Clothing Training Images Shape : \" , clothing_train_images[0].shape) \n",
    "plt.imshow(clothing_train_images[0])"
   ]
  },
  {
   "cell_type": "markdown",
   "metadata": {},
   "source": [
    "With the clothing dataset you can see it has already been pre processed for us meaning all images have been sized downto 28 x 28 pixels as this is the smallest enough we can go and still have the image recognizeable meaning that even though we have more images in this dataset it should process just as quick as the Cats and Dogs Dataset.\n",
    "\n",
    "The only processing we have to do which we also done with the Cats and Dogs Dataset is scalling the image value to a 0 or 1 by deviding by 255.\n",
    "\n",
    "<h3>Model Creation</h3>\n",
    "<h4>Cats and Dogs Dataset</h4>"
   ]
  },
  {
   "cell_type": "code",
   "execution_count": 10,
   "metadata": {},
   "outputs": [],
   "source": [
    "cats_dogs_model = Sequential([\n",
    "    Conv2D(16, 3, padding='same', activation='relu', input_shape=(IMG_SIZE, IMG_SIZE ,3)),\n",
    "    MaxPooling2D(),\n",
    "    \n",
    "    Conv2D(32, 3, padding='same', activation='relu'),\n",
    "    MaxPooling2D(),\n",
    "    \n",
    "    Conv2D(64, 3, padding='same', activation='relu'),\n",
    "    MaxPooling2D(),\n",
    "    \n",
    "    Flatten(),\n",
    "    \n",
    "    Dense(512, activation='relu'),\n",
    "    \n",
    "    Dense(1)\n",
    "])"
   ]
  },
  {
   "attachments": {},
   "cell_type": "markdown",
   "metadata": {},
   "source": [
    "<h5>Model Selection</h5>\n",
    "So with this tutorial and with most basic practices with Neural Networks and Convolutional Neural Networks, you will use a Sequential Model. This means that the layers that are added to the model are passed through sequentially from first to last. This in general is the most used model.\n",
    "\n",
    "<h5>Conv2D Layer</h5>\n",
    "As we are creating a convolutional neaural network with 2D images we will mostly be using a few Conv2D layers within our model. \n",
    "\n",
    "<img src=\"https://miro.medium.com/max/1052/1*ZCjPUFrB6eHPRi4eyP6aaA.gif\" alt=\"connect to internet to view image\"/>\n",
    "\n",
    "\n",
    "The first parameter we are specifying in the layers is the number of filters to be used on the layer. This is chosen based on the complexity of the dataset you are working with. So in this example we start with 16 filters and as you can see the number doubles with each layer. This is common practice as each Conv2D layer learns more filters from the past layer meaning it is getting deeper and deeper into the learning. So due to this being very simple data we only have 3 layers which we start with 16 filters and end with 64. If you were using more complex images you could go even deeper with the amount of layers and filters to learn more about your image.\n",
    "\n",
    "<img src=\"https://www.pyimagesearch.com/wp-content/uploads/2018/12/keras_conv2d_num_filters.png\" alt=\"connect to internet to view image\"/>\n",
    "\n",
    "With the filters after each Conv2D layer we use a MaxPooling2D layer to reduce the spatial dimmesions of the output again keeping our data smaller more accurate throughout the training of the model.\n",
    "\n",
    "<img src=\"https://miro.medium.com/max/628/1*YHV4_XGJwSG_ZCl8w_qqMg.png\" alt=\"connect to internet to view image\"/>\n",
    "\n",
    "The second paramameter we provide is the kernal size. Think of this as breaking the image up into a grid with your kernal size setting the size of the square grid i.e. 3x3 grid. Again this number is dependent on the complexity of our images and size and so on.If our images were larger than 150x150 pixels we might consider a grid greater than 3. With our images being simple a 3x3 grid will sufice but if images get more complex or bigger you could use even bigger such as 7x7 or more.\n",
    "\n",
    "<img src=\"https://www.pyimagesearch.com/wp-content/uploads/2018/12/keras_conv2d_filter_size.png\" alt=\"connect to internet to view image\"/>\n",
    "\n",
    "The third parameter in which we provide is the padding parameter. It can be set to one of two values, valid or same. During convolution with the padding parameter set to valid, spatial dimenstions are reduced through each layer meaning we are loosing some data through convolution on each layer. In some cases this is okay or even necceassary but in majority including this example it is not. So when we set the parameter to same, the spatial dimensions are preserved through each convolutional layer. Instead like we discussed to reduce the spatial dimesions in a better way we use the MaxPooling2D function.\n",
    "\n",
    "<img src=\"https://s3-us-west-2.amazonaws.com/static.pyimagesearch.com/keras-conv2d/keras_conv2d_padding.gif\" alt=\"connect to internet to view image\"/>\n",
    "\n",
    "The fourth parameter we provide is the activation function. The activation function is used on the layer during training to change the type of value loss and accuracy by changing how the layer reacts to the data in which it encounters. The three main activation functions are, Sigmoid, Tanh and Relu. Relu is the most commonly used but again you can try the various to see which makes the model most accurate. The Relu activation function's gradient is always equal to one meaning the maximum amount of an error can be passed through the network and layers meaning it can learn more from its mistakes making it more accurate. This again is the most common used function due to this benifit.\n",
    "\n",
    "<img src=\"https://www.pyimagesearch.com/wp-content/uploads/2018/12/keras_conv2d_activation_functions.png\" alt=\"connect to internet to view image\"/>\n",
    "\n",
    "And the final parameter you will see on the first Conv2D layer is the input shape parameter. Here you will pass in the size of the image in which the model should expect so in the dogs and cats this is 150x150 pixels. This means that the model will only accept images of this shape meaning all learning from data is equal and no chance for biased.\n",
    "\n",
    "<h5>Flatten Layer</h5>\n",
    "With our Conv2D layer and data outputting multidimensional data, we can use the Flatten layer to flatten this data. This eccentially means the the multidemntial data is flattened into 1 dimensional making it more understandable and readable by the next Dense layer. E.g. our 150x150 sized image would become 22500-number long vector after the Flatten layer being applied.\n",
    "\n",
    "<h5>Dense Layer</h5>\n",
    "The purpose of the dense layers at the end is to provide a fully connected layer from the Conv2D and Flatten layers to the output layer. In this layer we provide 512 units as the first parameter and we see again the use of the Relu activation function. The units parameter is the most basic and fundamental parameter of the layer. It dictates the size of the bias vector and weight matrix which are all complicated terms in which we dont need to understand. The second Dense layer of just 1 unit is set that way for out output layer, we have only 2 output classes, Dogs and Cats. So the output layer is set to 1 for our Binaray Classification\n",
    "\n",
    "<h4>Clothing Dataset</h4>"
   ]
  },
  {
   "cell_type": "code",
   "execution_count": 14,
   "metadata": {},
   "outputs": [],
   "source": [
    "clothing_model = Sequential([\n",
    "    Flatten(input_shape=(28, 28)),\n",
    "    \n",
    "    Dense(128, activation='relu'),\n",
    "    \n",
    "    Dense(10)\n",
    "])"
   ]
  },
  {
   "cell_type": "markdown",
   "metadata": {},
   "source": [
    "As can be seen in the model creation of the model for the clothing dataset it alot more simpler. This is due to the low complexity of each image, only being of size 28x28 pixels and being a definites shape. So for this we do not even have to use a concolutional neural network as can be seen with the lack of Conv2D layers.\n",
    "\n",
    "Instead what is happening here is we are first flattening the data from being multidimesional to a single number of type long integer and since it is the first layer we are providing the input shape parameter in which will set the size of the data in which the model will accept for training and use just the same as the first layer in the Cats and Dogs model.\n",
    "\n",
    "We then again see that we have 2 Dense layers the first containing 128 neurons, or units using the Relu activation rule. And then the second dense layer which has 10 units which is our 10 output classes for the output layer."
   ]
  }
 ],
 "metadata": {
  "kernelspec": {
   "display_name": "Python 3",
   "language": "python",
   "name": "python3"
  },
  "language_info": {
   "codemirror_mode": {
    "name": "ipython",
    "version": 3
   },
   "file_extension": ".py",
   "mimetype": "text/x-python",
   "name": "python",
   "nbconvert_exporter": "python",
   "pygments_lexer": "ipython3",
   "version": "3.7.7"
  }
 },
 "nbformat": 4,
 "nbformat_minor": 4
}
